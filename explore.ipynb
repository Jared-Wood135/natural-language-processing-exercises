{
 "cells": [
  {
   "cell_type": "markdown",
   "id": "d828a2f8",
   "metadata": {},
   "source": [
    "<div style='background-color : orange'>\n",
    "<a id='TableOfContents'></a>\n",
    "    <b><u><i><h1 style='text-align : center'>\n",
    "        Table of Contents\n",
    "    </h1></i></u></b>\n",
    "<li><a href='#imports'>Imports</a></li>\n",
    "<li><a href='#q1'>Question 1</a></li>\n",
    "<li><a href='#q2'>Question 2</a></li>\n",
    "<li><a href='#q3'>Question 3</a></li>\n",
    "<li><a href='#misc'>Miscellaneous</a></li>"
   ]
  },
  {
   "cell_type": "markdown",
   "id": "2b0a2348",
   "metadata": {},
   "source": [
    "<div style='background-color : orange'>\n",
    "<a id='imports'></a>\n",
    "    <b><u><i><h1 style='text-align : center'>\n",
    "        Imports\n",
    "    </h1></i></u></b>\n",
    "<li><a href='#TableOfContents'>Table of Contents</a></li>"
   ]
  },
  {
   "cell_type": "code",
   "execution_count": 3,
   "id": "e9d1131b",
   "metadata": {},
   "outputs": [],
   "source": [
    "# Vectorization and dataframing\n",
    "import numpy as np\n",
    "import pandas as pd\n",
    "\n",
    "# Visualizations\n",
    "import matplotlib.pyplot as plt\n",
    "import matplotlib as mpl\n",
    "import seaborn as sns\n",
    "\n",
    "# Regex\n",
    "import re\n",
    "\n",
    "# Ignore warnings\n",
    "import warnings\n",
    "warnings.filterwarnings('ignore')\n",
    "\n",
    "# .py files\n",
    "import acquire as a"
   ]
  },
  {
   "cell_type": "code",
   "execution_count": 4,
   "id": "226c697e",
   "metadata": {},
   "outputs": [],
   "source": [
    "# Set default plt style to 'bmh'\n",
    "mpl.style.use('bmh')"
   ]
  },
  {
   "cell_type": "markdown",
   "id": "09a57f87",
   "metadata": {},
   "source": [
    "<div style='background-color : orange'>\n",
    "<a id='q1'></a>\n",
    "    <b><u><i><h1 style='text-align : center'>\n",
    "        Question 1\n",
    "    </h1></i></u></b>\n",
    "<li><a href='#TableOfContents'>Table of Contents</a></li>"
   ]
  },
  {
   "cell_type": "markdown",
   "id": "9eca2a13",
   "metadata": {},
   "source": [
    "<b>Question 1.</b> Spam Data\n",
    "\n",
    "- Load the spam data set.\n",
    "- Create and explore bigrams for the spam data. Visualize them with a word cloud. How do they compare with the ham bigrams?\n",
    "- Is there any overlap in the bigrams for the spam data and the ham data?\n",
    "- Create and explore with trigrams (i.e. a n-gram with an n of 3) for both the spam and ham data."
   ]
  },
  {
   "cell_type": "code",
   "execution_count": null,
   "id": "81c14622",
   "metadata": {},
   "outputs": [],
   "source": []
  },
  {
   "cell_type": "markdown",
   "id": "5cdb5022",
   "metadata": {},
   "source": [
    "<div style='background-color : orange'>\n",
    "<a id='q2'></a>\n",
    "    <b><u><i><h1 style='text-align : center'>\n",
    "        Question 2\n",
    "    </h1></i></u></b>\n",
    "<li><a href='#TableOfContents'>Table of Contents</a></li>"
   ]
  },
  {
   "cell_type": "markdown",
   "id": "588786b8",
   "metadata": {},
   "source": [
    "<b>Question 2.</b> Explore the blog articles using the techniques discussed in the exploration lesson."
   ]
  },
  {
   "cell_type": "code",
   "execution_count": null,
   "id": "ec861448",
   "metadata": {},
   "outputs": [],
   "source": []
  },
  {
   "cell_type": "markdown",
   "id": "3810f905",
   "metadata": {},
   "source": [
    "<div style='background-color : orange'>\n",
    "<a id='q3'></a>\n",
    "    <b><u><i><h1 style='text-align : center'>\n",
    "        Question 3\n",
    "    </h1></i></u></b>\n",
    "<li><a href='#TableOfContents'>Table of Contents</a></li>"
   ]
  },
  {
   "cell_type": "markdown",
   "id": "4ada8ca9",
   "metadata": {},
   "source": [
    "<b>Question 3.</b> Explore the news articles using the techniques discussed in the exploration lesson. Use the <mark>category</mark> variable when exploring."
   ]
  },
  {
   "cell_type": "code",
   "execution_count": null,
   "id": "3739b976",
   "metadata": {},
   "outputs": [],
   "source": []
  },
  {
   "cell_type": "markdown",
   "id": "3ec3b05b",
   "metadata": {},
   "source": [
    "<div style='background-color : orange'>\n",
    "<a id='misc'></a>\n",
    "    <b><u><i><h1 style='text-align : center'>\n",
    "        Miscellaneous\n",
    "    </h1></i></u></b>\n",
    "<li><a href='#TableOfContents'>Table of Contents</a></li>"
   ]
  },
  {
   "cell_type": "code",
   "execution_count": null,
   "id": "0ece7c9d",
   "metadata": {},
   "outputs": [],
   "source": []
  }
 ],
 "metadata": {
  "kernelspec": {
   "display_name": "Python 3 (ipykernel)",
   "language": "python",
   "name": "python3"
  },
  "language_info": {
   "codemirror_mode": {
    "name": "ipython",
    "version": 3
   },
   "file_extension": ".py",
   "mimetype": "text/x-python",
   "name": "python",
   "nbconvert_exporter": "python",
   "pygments_lexer": "ipython3",
   "version": "3.9.13"
  }
 },
 "nbformat": 4,
 "nbformat_minor": 5
}
