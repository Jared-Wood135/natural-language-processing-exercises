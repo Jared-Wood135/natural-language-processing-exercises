{
 "cells": [
  {
   "cell_type": "markdown",
   "id": "d828a2f8",
   "metadata": {},
   "source": [
    "<div style='background-color : orange'>\n",
    "<a id='TableOfContents'></a>\n",
    "    <b><u><i><h1 style='text-align : center'>\n",
    "        Table of Contents\n",
    "    </h1></i></u></b>\n",
    "<li><a href='#imports'>Imports</a></li>\n",
    "<li><a href='#q1'>Question 1</a></li>\n",
    "<li><a href='#q2'>Question 2</a></li>\n",
    "<li><a href='#q3'>Question 3</a></li>\n",
    "<li><a href='#q4'>Question 4</a></li>\n",
    "<li><a href='#q5'>Question 5</a></li>\n",
    "<li><a href='#bonus'>Bonus</a></li>"
   ]
  },
  {
   "cell_type": "markdown",
   "id": "2b0a2348",
   "metadata": {},
   "source": [
    "<div style='background-color : orange'>\n",
    "<a id='imports'></a>\n",
    "    <b><u><i><h1 style='text-align : center'>\n",
    "        Imports\n",
    "    </h1></i></u></b>\n",
    "<li><a href='#TableOfContents'>Table of Contents</a></li>"
   ]
  },
  {
   "cell_type": "code",
   "execution_count": 1,
   "id": "e9d1131b",
   "metadata": {},
   "outputs": [],
   "source": [
    "# Vectorization and dataframing\n",
    "import numpy as np\n",
    "import pandas as pd\n",
    "\n",
    "# Visualizations\n",
    "import matplotlib.pyplot as plt\n",
    "import matplotlib as mpl\n",
    "import seaborn as sns\n",
    "\n",
    "# Regex\n",
    "import re\n",
    "\n",
    "# Ignore warnings\n",
    "import warnings\n",
    "warnings.filterwarnings('ignore')\n",
    "\n",
    "# .py files\n",
    "import acquire as a"
   ]
  },
  {
   "cell_type": "code",
   "execution_count": 2,
   "id": "b4ca2a27",
   "metadata": {},
   "outputs": [],
   "source": [
    "# Set default plt style to 'bmh'\n",
    "mpl.style.use('bmh')"
   ]
  },
  {
   "cell_type": "markdown",
   "id": "09a57f87",
   "metadata": {},
   "source": [
    "<div style='background-color : orange'>\n",
    "<a id='q1'></a>\n",
    "    <b><u><i><h1 style='text-align : center'>\n",
    "        Question 1\n",
    "    </h1></i></u></b>\n",
    "<li><a href='#TableOfContents'>Table of Contents</a></li>"
   ]
  },
  {
   "cell_type": "markdown",
   "id": "9eca2a13",
   "metadata": {},
   "source": [
    "<b>Question 1.</b> Write a function named <b><mark>is_vowel</mark></b>. It should accept a string as input and use a regular expression to determine if the passed string is a vowel. While not explicity mentioned in the lesson, you can treat the result of re.search as a boolean value that indicates whether or not the regular expression matches the given string."
   ]
  },
  {
   "cell_type": "code",
   "execution_count": 35,
   "id": "ed6aa26e",
   "metadata": {},
   "outputs": [],
   "source": [
    "def is_vowel(entry):\n",
    "    '''\n",
    "    Takes in a string and uses regex to determine if the input is a vowel\n",
    "    \n",
    "    INPUT:\n",
    "    entry = String type variable\n",
    "    \n",
    "    OUTPUT:\n",
    "    result = Boolean True/False if it is a vowel or not\n",
    "    '''\n",
    "    regexp = r'[aeiouAEIOU]'\n",
    "    check = re.findall(regexp, entry)\n",
    "    if len(check) >= 1:\n",
    "        result = True\n",
    "        return result\n",
    "    else:\n",
    "        result = False\n",
    "        return result\n"
   ]
  },
  {
   "cell_type": "code",
   "execution_count": 36,
   "id": "8e4b36a6",
   "metadata": {},
   "outputs": [
    {
     "data": {
      "text/plain": [
       "True"
      ]
     },
     "execution_count": 36,
     "metadata": {},
     "output_type": "execute_result"
    }
   ],
   "source": [
    "is_vowel('YEET')"
   ]
  },
  {
   "cell_type": "markdown",
   "id": "5cdb5022",
   "metadata": {},
   "source": [
    "<div style='background-color : orange'>\n",
    "<a id='q2'></a>\n",
    "    <b><u><i><h1 style='text-align : center'>\n",
    "        Question 2\n",
    "    </h1></i></u></b>\n",
    "<li><a href='#TableOfContents'>Table of Contents</a></li>"
   ]
  },
  {
   "cell_type": "markdown",
   "id": "588786b8",
   "metadata": {},
   "source": [
    "<b>Question 2.</b> Write a function named <b><mark>is_valid_username</mark></b> that accepts a string as input. A valid username starts with a lowercase letter, and only consists of lowercase letters, numbers, or the _ character. It should also be no longer than 32 characters. The function should return either True or False depending on whether the passed string is a valid username."
   ]
  },
  {
   "cell_type": "markdown",
   "id": "6129e73e",
   "metadata": {},
   "source": [
    "- is_valid_username('aaaaaaaaaaaaaaaaaaaaaaaaaaaaaaaaa')\n",
    "    - False\n",
    "- is_valid_username('codeup')\n",
    "    - True\n",
    "- is_valid_username('Codeup')\n",
    "    - False\n",
    "- is_valid_username('codeup123')\n",
    "    - True\n",
    "- is_valid_username('1codeup')\n",
    "    - False\n"
   ]
  },
  {
   "cell_type": "code",
   "execution_count": 37,
   "id": "b07f639c",
   "metadata": {},
   "outputs": [],
   "source": [
    "def is_valid_username(entry):\n",
    "    '''\n",
    "    Takes in a string and uses regex to determine if the input is a valid username\n",
    "    that starts with a lowercase, is only lowercase letters, numbers, or _, and no\n",
    "    longer than 32 characters\n",
    "    \n",
    "    INPUT:\n",
    "    entry = String type variable\n",
    "    \n",
    "    OUTPUT:\n",
    "    result = Boolean True/False if it is a valid username or not\n",
    "    '''\n",
    "    regexp = r'^[a-z][a-z0-9_]{0,31}$'\n",
    "    check = bool(re.match(regexp, entry))\n",
    "    return check"
   ]
  },
  {
   "cell_type": "code",
   "execution_count": 112,
   "id": "21531864",
   "metadata": {},
   "outputs": [
    {
     "name": "stdout",
     "output_type": "stream",
     "text": [
      "False\n",
      "True\n",
      "False\n",
      "True\n",
      "False\n"
     ]
    }
   ],
   "source": [
    "# Test the function\n",
    "print(is_valid_username('aaaaaaaaaaaaaaaaaaaaaaaaaaaaaaaaa'))\n",
    "print(is_valid_username('codeup'))\n",
    "print(is_valid_username('Codeup'))\n",
    "print(is_valid_username('codeup123'))\n",
    "print(is_valid_username('1codeup'))"
   ]
  },
  {
   "cell_type": "markdown",
   "id": "3810f905",
   "metadata": {},
   "source": [
    "<div style='background-color : orange'>\n",
    "<a id='q3'></a>\n",
    "    <b><u><i><h1 style='text-align : center'>\n",
    "        Question 3\n",
    "    </h1></i></u></b>\n",
    "<li><a href='#TableOfContents'>Table of Contents</a></li>"
   ]
  },
  {
   "cell_type": "markdown",
   "id": "4ada8ca9",
   "metadata": {},
   "source": [
    "<b>Question 3.</b> Write a regular expression to capture phone numbers. It should match all of the following:"
   ]
  },
  {
   "cell_type": "markdown",
   "id": "8c339bbc",
   "metadata": {},
   "source": [
    "- (210) 867 5309\n",
    "- +1 210.867.5309\n",
    "- 867-5309\n",
    "- 210-867-5309"
   ]
  },
  {
   "cell_type": "code",
   "execution_count": 108,
   "id": "d3c8c37a",
   "metadata": {},
   "outputs": [],
   "source": [
    "def is_phone_number(entry):\n",
    "    '''\n",
    "    Takes in a string and uses regex to determine if the entry is\n",
    "    a phone number or not\n",
    "    \n",
    "    INPUT:\n",
    "    entry = String type variable\n",
    "    \n",
    "    OUTPUT:\n",
    "    result = Boolean True/False if it is a phone number or not\n",
    "    '''\n",
    "    regexp = r'\\W?\\d*?\\W?\\d*?\\W?\\d{3}\\W\\d{4}'\n",
    "    result = bool(re.findall(regexp, entry))\n",
    "    return result"
   ]
  },
  {
   "cell_type": "code",
   "execution_count": 111,
   "id": "1281d8e5",
   "metadata": {},
   "outputs": [
    {
     "name": "stdout",
     "output_type": "stream",
     "text": [
      "True\n",
      "True\n",
      "True\n",
      "True\n",
      "False\n",
      "False\n"
     ]
    }
   ],
   "source": [
    "# Test the function\n",
    "print(is_phone_number('(210) 867 5309'))\n",
    "print(is_phone_number('+1 210.867.5309'))\n",
    "print(is_phone_number('867-5309'))\n",
    "print(is_phone_number('210-867-5309'))\n",
    "print(is_phone_number('Not a number'))\n",
    "print(is_phone_number('1234598 078'))"
   ]
  },
  {
   "cell_type": "markdown",
   "id": "f4625d23",
   "metadata": {},
   "source": [
    "<div style='background-color : orange'>\n",
    "<a id='q4'></a>\n",
    "    <b><u><i><h1 style='text-align : center'>\n",
    "        Question 4\n",
    "    </h1></i></u></b>\n",
    "<li><a href='#TableOfContents'>Table of Contents</a></li>"
   ]
  },
  {
   "cell_type": "markdown",
   "id": "528161b7",
   "metadata": {},
   "source": [
    "<b>Question 4.</b> Use regular expressions to convert the dates below to the standardized year-month-day format."
   ]
  },
  {
   "cell_type": "markdown",
   "id": "3114065e",
   "metadata": {},
   "source": [
    "- 02/04/19\n",
    "- 02/05/19\n",
    "- 02/06/19\n",
    "- 02/07/19\n",
    "- 02/08/19\n",
    "- 02/09/19\n",
    "- 02/10/19"
   ]
  },
  {
   "cell_type": "code",
   "execution_count": 114,
   "id": "c033ab43",
   "metadata": {},
   "outputs": [],
   "source": [
    "regexp = r'\\d{2}/\\d{2}/\\d{2}'\n",
    "subject = '02/04/19'\n",
    "test = re.findall(regexp, subject)"
   ]
  },
  {
   "cell_type": "code",
   "execution_count": 121,
   "id": "dc720f39",
   "metadata": {},
   "outputs": [
    {
     "data": {
      "text/plain": [
       "'2019/04/02'"
      ]
     },
     "execution_count": 121,
     "metadata": {},
     "output_type": "execute_result"
    }
   ],
   "source": [
    "new = test[0].split('/')\n",
    "new[2] = '20' + new[2]\n",
    "new[2] + '/' + new[1] + '/' + new[0]"
   ]
  },
  {
   "cell_type": "code",
   "execution_count": 130,
   "id": "0994ad9d",
   "metadata": {},
   "outputs": [
    {
     "data": {
      "text/plain": [
       "'2019/04/02'"
      ]
     },
     "execution_count": 130,
     "metadata": {},
     "output_type": "execute_result"
    }
   ],
   "source": [
    "regexp = r'(\\d*)/(\\d*)/(\\d*)'\n",
    "subject = '02/04/19'\n",
    "re.sub(regexp, r'20\\3/\\2/\\1', subject)"
   ]
  },
  {
   "cell_type": "code",
   "execution_count": 133,
   "id": "0fc998e4",
   "metadata": {},
   "outputs": [],
   "source": [
    "def convert_date_to_yyyymmdd(entry):\n",
    "    '''\n",
    "    Takes in a entry and ensures it is in ddmmyy format then converts it into yyyymmdd format\n",
    "    \n",
    "    INPUT:\n",
    "    ddmmyy = String type that is in DD/MM/YY format\n",
    "    \n",
    "    OUTPUT:\n",
    "    yyyymmdd = String type that is in YYYY/MM/DD format\n",
    "    '''\n",
    "    regexp = r'\\d{2}/\\d{2}/\\d{2}'\n",
    "    result = bool(re.match(regexp, entry))\n",
    "    if result == True:\n",
    "        regexp = r'(\\d*)/(\\d*)/(\\d*)'\n",
    "        yyyymmdd = re.sub(regexp, r'20\\3/\\2/\\1', entry)\n",
    "        return yyyymmdd\n",
    "    else:\n",
    "        print('\\033[31mInvalid input\\033[0m')\n",
    "        print('Please input a string in \\033[35m\\'DD/MM/YY\\'\\033[0m format')"
   ]
  },
  {
   "cell_type": "code",
   "execution_count": 135,
   "id": "15178df4",
   "metadata": {},
   "outputs": [
    {
     "data": {
      "text/plain": [
       "'2099/12/02'"
      ]
     },
     "execution_count": 135,
     "metadata": {},
     "output_type": "execute_result"
    }
   ],
   "source": [
    "convert_date_to_yyyymmdd('02/12/99')"
   ]
  },
  {
   "cell_type": "markdown",
   "id": "d17ee7be",
   "metadata": {},
   "source": [
    "<div style='background-color : orange'>\n",
    "<a id='q5'></a>\n",
    "    <b><u><i><h1 style='text-align : center'>\n",
    "        Question 5\n",
    "    </h1></i></u></b>\n",
    "<li><a href='#TableOfContents'>Table of Contents</a></li>"
   ]
  },
  {
   "cell_type": "markdown",
   "id": "bcbdbefc",
   "metadata": {},
   "source": [
    "<b>Question 5.</b> Write a regex to extract the various parts of these logfile lines:"
   ]
  },
  {
   "cell_type": "markdown",
   "id": "83430b6b",
   "metadata": {},
   "source": [
    "- GET /api/v1/sales?page=86 [16/Apr/2019:193452+0000] HTTP/1.1 {200} 510348 \"python-requests/2.21.0\" 97.105.19.58\n",
    "- POST /users_accounts/file-upload [16/Apr/2019:193452+0000] HTTP/1.1 {201} 42 \"User-Agent: Mozilla/5.0 (X11; Fedora; Fedora; Linux x86_64) AppleWebKit/537.36 (KHTML, like Gecko) Chrome/73.0.3683.86 Safari/537.36\" 97.105.19.58\n",
    "- GET /api/v1/items?page=3 [16/Apr/2019:193453+0000] HTTP/1.1 {429} 3561 \"python-requests/2.21.0\" 97.105.19.58\n"
   ]
  },
  {
   "cell_type": "markdown",
   "id": "c4240cc6",
   "metadata": {},
   "source": [
    "- HTTP METHOD ==> GET\n",
    "- PATH/API ==> /api/v1/sales?page=86\n",
    "- TIMESTAMP ==> [STUFF]\n",
    "- HTTP PROTOCOL ==> HTTP/1.1\n",
    "- HTTP STATUS CODE ==> {201}\n",
    "- BYTES ==> 42\n",
    "- USER-AGENT ==> \"STUFF\"\n",
    "- IP ==> 97.105.19.58"
   ]
  },
  {
   "cell_type": "code",
   "execution_count": 136,
   "id": "e06f5207",
   "metadata": {},
   "outputs": [],
   "source": [
    "test = 'GET /api/v1/sales?page=86 [16/Apr/2019:193452+0000] HTTP/1.1 {200} 510348 \"python-requests/2.21.0\" 97.105.19.58'"
   ]
  },
  {
   "cell_type": "code",
   "execution_count": 268,
   "id": "acbed33e",
   "metadata": {},
   "outputs": [],
   "source": [
    "def break_logfile(entry):\n",
    "    '''\n",
    "    Takes in a logfile entry and breaks the entry apart as a dictionary\n",
    "    \n",
    "    INPUT:\n",
    "    entry = String type variable\n",
    "    \n",
    "    OUTPUT:\n",
    "    broken_dict = Dictionary of broken apart logfile entry\n",
    "    '''\n",
    "    regexp = r'''\n",
    "    (?P<http_method>[A-Z]+)\n",
    "    \\s\n",
    "    (?P<path_or_api>\\S+)\n",
    "    \\s\\W\n",
    "    (?P<timestamp>\\S+)\n",
    "    ]\\s\n",
    "    (?P<http_protocol>\\S+)\n",
    "    \\s{\n",
    "    (?P<http_status_code>\\S+)\n",
    "    }\\s\n",
    "    (?P<bytes>\\S+)\n",
    "    \\s\"\n",
    "    (?P<user_agent>\\S+)\n",
    "    \\s\n",
    "    (?P<ip>\\S+\n",
    "    )\n",
    "    '''\n",
    "    stuff = re.search(regexp, entry, re.VERBOSE)\n",
    "    broken_dict = stuff.groupdict()\n",
    "    return broken_dict"
   ]
  },
  {
   "cell_type": "code",
   "execution_count": 270,
   "id": "7390518d",
   "metadata": {},
   "outputs": [],
   "source": [
    "logfiles = [\n",
    "    'GET /api/v1/sales?page=86 [16/Apr/2019:193452+0000] HTTP/1.1 {200} 510348 \"python-requests/2.21.0\" 97.105.19.58',\n",
    "    'POST /users_accounts/file-upload [16/Apr/2019:193452+0000] HTTP/1.1 {201} 42 \"User-Agent: Mozilla/5.0 (X11; Fedora; Fedora; Linux x86_64) AppleWebKit/537.36 (KHTML, like Gecko) Chrome/73.0.3683.86 Safari/537.36\" 97.105.19.58',\n",
    "    'GET /api/v1/items?page=3 [16/Apr/2019:193453+0000] HTTP/1.1 {429} 3561 \"python-requests/2.21.0\" 97.105.19.58'\n",
    "]"
   ]
  },
  {
   "cell_type": "code",
   "execution_count": 273,
   "id": "a7b64255",
   "metadata": {},
   "outputs": [],
   "source": [
    "first_log = break_logfile(logfiles[0])\n",
    "second_log = break_logfile(logfiles[1])\n",
    "third_log = break_logfile(logfiles[2])"
   ]
  },
  {
   "cell_type": "code",
   "execution_count": 288,
   "id": "81d58f6a",
   "metadata": {},
   "outputs": [
    {
     "data": {
      "text/html": [
       "<div>\n",
       "<style scoped>\n",
       "    .dataframe tbody tr th:only-of-type {\n",
       "        vertical-align: middle;\n",
       "    }\n",
       "\n",
       "    .dataframe tbody tr th {\n",
       "        vertical-align: top;\n",
       "    }\n",
       "\n",
       "    .dataframe thead th {\n",
       "        text-align: right;\n",
       "    }\n",
       "</style>\n",
       "<table border=\"1\" class=\"dataframe\">\n",
       "  <thead>\n",
       "    <tr style=\"text-align: right;\">\n",
       "      <th></th>\n",
       "      <th>http_method</th>\n",
       "      <th>path_or_api</th>\n",
       "      <th>timestamp</th>\n",
       "      <th>http_protocol</th>\n",
       "      <th>http_status_code</th>\n",
       "      <th>bytes</th>\n",
       "      <th>user_agent</th>\n",
       "      <th>ip</th>\n",
       "    </tr>\n",
       "  </thead>\n",
       "  <tbody>\n",
       "    <tr>\n",
       "      <th>0</th>\n",
       "      <td>GET</td>\n",
       "      <td>/api/v1/sales?page=86</td>\n",
       "      <td>16/Apr/2019:193452+0000</td>\n",
       "      <td>HTTP/1.1</td>\n",
       "      <td>200</td>\n",
       "      <td>510348</td>\n",
       "      <td>python-requests/2.21.0\"</td>\n",
       "      <td>97.105.19.58</td>\n",
       "    </tr>\n",
       "  </tbody>\n",
       "</table>\n",
       "</div>"
      ],
      "text/plain": [
       "  http_method            path_or_api                timestamp http_protocol  \\\n",
       "0         GET  /api/v1/sales?page=86  16/Apr/2019:193452+0000      HTTP/1.1   \n",
       "\n",
       "  http_status_code   bytes               user_agent            ip  \n",
       "0              200  510348  python-requests/2.21.0\"  97.105.19.58  "
      ]
     },
     "execution_count": 288,
     "metadata": {},
     "output_type": "execute_result"
    }
   ],
   "source": [
    "pd.DataFrame([first_log], columns=first_log.keys())"
   ]
  },
  {
   "cell_type": "markdown",
   "id": "62a7351b",
   "metadata": {},
   "source": [
    "<div style='background-color : orange'>\n",
    "<a id='bonus'></a>\n",
    "    <b><u><i><h1 style='text-align : center'>\n",
    "        Bonus\n",
    "    </h1></i></u></b>\n",
    "<li><a href='#TableOfContents'>Table of Contents</a></li>"
   ]
  },
  {
   "cell_type": "markdown",
   "id": "05139d04",
   "metadata": {},
   "source": [
    "<b>Bonus.</b> You can find a list of words on your mac at <b><mark>/usr/share/dict/words</mark></b>. Use this file to answer the following questions:"
   ]
  },
  {
   "cell_type": "markdown",
   "id": "17265b8d",
   "metadata": {},
   "source": [
    "- How many words have at least 3 vowels?\n",
    "- How many words have at least 3 vowels in a row?\n",
    "- How many words have at least 4 consonants in a row?\n",
    "- How many words start and end with the same letter?\n",
    "- How many words start and end with a vowel?\n",
    "- How many words contain the same letter 3 times in a row?\n",
    "- What other interesting patterns in words can you find?\n"
   ]
  },
  {
   "cell_type": "code",
   "execution_count": null,
   "id": "76fb9966",
   "metadata": {},
   "outputs": [],
   "source": []
  }
 ],
 "metadata": {
  "kernelspec": {
   "display_name": "Python 3 (ipykernel)",
   "language": "python",
   "name": "python3"
  },
  "language_info": {
   "codemirror_mode": {
    "name": "ipython",
    "version": 3
   },
   "file_extension": ".py",
   "mimetype": "text/x-python",
   "name": "python",
   "nbconvert_exporter": "python",
   "pygments_lexer": "ipython3",
   "version": "3.9.13"
  }
 },
 "nbformat": 4,
 "nbformat_minor": 5
}
