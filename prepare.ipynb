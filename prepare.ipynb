{
 "cells": [
  {
   "cell_type": "markdown",
   "id": "d828a2f8",
   "metadata": {},
   "source": [
    "<div style='background-color : orange'>\n",
    "<a id='TableOfContents'></a>\n",
    "    <b><u><i><h1 style='text-align : center'>\n",
    "        Table of Contents\n",
    "    </h1></i></u></b>\n",
    "<li><a href='#imports'>Imports</a></li>\n",
    "<li><a href='#q1'>Question 1</a></li>\n",
    "<li><a href='#q2'>Question 2</a></li>\n",
    "<li><a href='#q3'>Question 3</a></li>\n",
    "<li><a href='#q4'>Question 4</a></li>\n",
    "<li><a href='#q5'>Question 5</a></li>\n",
    "<li><a href='#q6'>Question 6</a></li>\n",
    "<li><a href='#q7'>Question 7</a></li>\n",
    "<li><a href='#q8'>Question 8</a></li>\n",
    "<li><a href='#q9'>Question 9</a></li>\n",
    "<li><a href='#misc'>Miscellaneous</a></li>"
   ]
  },
  {
   "cell_type": "markdown",
   "id": "de142722",
   "metadata": {},
   "source": [
    "The end result of this exercise should be a file named <mark>prepare.py</mark> that defines the requested functions.\n",
    "\n",
    "In this exercise we will be defining some functions to prepare textual data. These functions should apply equally well to both the codeup blog articles and the news articles that were previously acquired."
   ]
  },
  {
   "cell_type": "markdown",
   "id": "2b0a2348",
   "metadata": {},
   "source": [
    "<div style='background-color : orange'>\n",
    "<a id='imports'></a>\n",
    "    <b><u><i><h1 style='text-align : center'>\n",
    "        Imports\n",
    "    </h1></i></u></b>\n",
    "<li><a href='#TableOfContents'>Table of Contents</a></li>"
   ]
  },
  {
   "cell_type": "code",
   "execution_count": 3,
   "id": "e9d1131b",
   "metadata": {},
   "outputs": [],
   "source": [
    "# Vectorization and dataframing\n",
    "import numpy as np\n",
    "import pandas as pd\n",
    "\n",
    "# Visualizations\n",
    "import matplotlib.pyplot as plt\n",
    "import matplotlib as mpl\n",
    "import seaborn as sns\n",
    "\n",
    "# Regex\n",
    "import re\n",
    "\n",
    "# Ignore warnings\n",
    "import warnings\n",
    "warnings.filterwarnings('ignore')\n",
    "\n",
    "# .py files\n",
    "import acquire as a"
   ]
  },
  {
   "cell_type": "code",
   "execution_count": 4,
   "id": "226c697e",
   "metadata": {},
   "outputs": [],
   "source": [
    "# Set default plt style to 'bmh'\n",
    "mpl.style.use('bmh')"
   ]
  },
  {
   "cell_type": "markdown",
   "id": "09a57f87",
   "metadata": {},
   "source": [
    "<div style='background-color : orange'>\n",
    "<a id='q1'></a>\n",
    "    <b><u><i><h1 style='text-align : center'>\n",
    "        Question 1\n",
    "    </h1></i></u></b>\n",
    "<li><a href='#TableOfContents'>Table of Contents</a></li>\n",
    "<li><a href='#q1bonus'>Bonus</a></li>"
   ]
  },
  {
   "cell_type": "markdown",
   "id": "9eca2a13",
   "metadata": {},
   "source": [
    "<b>Question 1.</b> Define a function named <mark><i>basic_clean</i></mark>. It should take in a string and apply some basic text cleaning to it:\n",
    "- Lowercase everything\n",
    "- Normalize unicode characters\n",
    "- Replace anything that is not a letter, number, whitespace or a single quote."
   ]
  },
  {
   "cell_type": "code",
   "execution_count": null,
   "id": "81c14622",
   "metadata": {},
   "outputs": [],
   "source": []
  },
  {
   "cell_type": "markdown",
   "id": "5cdb5022",
   "metadata": {},
   "source": [
    "<div style='background-color : orange'>\n",
    "<a id='q2'></a>\n",
    "    <b><u><i><h1 style='text-align : center'>\n",
    "        Question 2\n",
    "    </h1></i></u></b>\n",
    "<li><a href='#TableOfContents'>Table of Contents</a></li>"
   ]
  },
  {
   "cell_type": "markdown",
   "id": "588786b8",
   "metadata": {},
   "source": [
    "<b>Question 2.</b> Define a function named <mark><i>tokenize</i></mark>. It should take in a string and tokenize all the words in the string."
   ]
  },
  {
   "cell_type": "code",
   "execution_count": null,
   "id": "ec861448",
   "metadata": {},
   "outputs": [],
   "source": []
  },
  {
   "cell_type": "markdown",
   "id": "3810f905",
   "metadata": {},
   "source": [
    "<div style='background-color : orange'>\n",
    "<a id='q3'></a>\n",
    "    <b><u><i><h1 style='text-align : center'>\n",
    "        Question 3\n",
    "    </h1></i></u></b>\n",
    "<li><a href='#TableOfContents'>Table of Contents</a></li>"
   ]
  },
  {
   "cell_type": "markdown",
   "id": "4ada8ca9",
   "metadata": {},
   "source": [
    "<b>Question 3.</b> Define a function named <mark><i>stem</i></mark>. It should accept some text and return the text after applying stemming to all the words."
   ]
  },
  {
   "cell_type": "code",
   "execution_count": null,
   "id": "3739b976",
   "metadata": {},
   "outputs": [],
   "source": []
  },
  {
   "cell_type": "markdown",
   "id": "a4746909",
   "metadata": {},
   "source": [
    "<div style='background-color : orange'>\n",
    "<a id='q4'></a>\n",
    "    <b><u><i><h1 style='text-align : center'>\n",
    "        Question 4\n",
    "    </h1></i></u></b>\n",
    "<li><a href='#TableOfContents'>Table of Contents</a></li>"
   ]
  },
  {
   "cell_type": "markdown",
   "id": "9a393917",
   "metadata": {},
   "source": [
    "<b>Question 4.</b> Define a function named <mark><i>lemmatize</i></mark>. It should accept some text and return the text after applying lemmatization to each word."
   ]
  },
  {
   "cell_type": "code",
   "execution_count": null,
   "id": "3f0536b3",
   "metadata": {},
   "outputs": [],
   "source": []
  },
  {
   "cell_type": "markdown",
   "id": "a06b00e6",
   "metadata": {},
   "source": [
    "<div style='background-color : orange'>\n",
    "<a id='q5'></a>\n",
    "    <b><u><i><h1 style='text-align : center'>\n",
    "        Question 5\n",
    "    </h1></i></u></b>\n",
    "<li><a href='#TableOfContents'>Table of Contents</a></li>"
   ]
  },
  {
   "cell_type": "markdown",
   "id": "7a2a4d31",
   "metadata": {},
   "source": [
    "<b>Question 5.</b> Define a function named <mark><i>remove_stopwords</i></mark>. It should accept some text and return the text after removing all the stopwords.\n",
    "\n",
    "This function should define two optional parameters, <mark><i>extra_words</i></mark> and <mark><i>exclude_words</i></mark>. These parameters should define any additional stop words to include, and any words that we don't want to remove.\n",
    "\n"
   ]
  },
  {
   "cell_type": "code",
   "execution_count": null,
   "id": "d9c0b6ae",
   "metadata": {},
   "outputs": [],
   "source": []
  },
  {
   "cell_type": "markdown",
   "id": "2afb25e4",
   "metadata": {},
   "source": [
    "<div style='background-color : orange'>\n",
    "<a id='q6'></a>\n",
    "    <b><u><i><h1 style='text-align : center'>\n",
    "        Question 6\n",
    "    </h1></i></u></b>\n",
    "<li><a href='#TableOfContents'>Table of Contents</a></li>"
   ]
  },
  {
   "cell_type": "markdown",
   "id": "41f98201",
   "metadata": {},
   "source": [
    "<b>Question 6.</b> Use your data from the acquire to produce a dataframe of the news articles. Name the dataframe <mark><i>news_df</i></mark>."
   ]
  },
  {
   "cell_type": "code",
   "execution_count": null,
   "id": "1e5ace8b",
   "metadata": {},
   "outputs": [],
   "source": []
  },
  {
   "cell_type": "markdown",
   "id": "a8aaf2fe",
   "metadata": {},
   "source": [
    "<div style='background-color : orange'>\n",
    "<a id='q7'></a>\n",
    "    <b><u><i><h1 style='text-align : center'>\n",
    "        Question 7\n",
    "    </h1></i></u></b>\n",
    "<li><a href='#TableOfContents'>Table of Contents</a></li>"
   ]
  },
  {
   "cell_type": "markdown",
   "id": "2d338d76",
   "metadata": {},
   "source": [
    "<b>Question 7.</b> Make another dataframe for the Codeup blog posts. Name the dataframe <mark><i>codeup_df</i></mark>."
   ]
  },
  {
   "cell_type": "code",
   "execution_count": null,
   "id": "f96f7bd6",
   "metadata": {},
   "outputs": [],
   "source": []
  },
  {
   "cell_type": "markdown",
   "id": "9ff1cc40",
   "metadata": {},
   "source": [
    "<div style='background-color : orange'>\n",
    "<a id='q8'></a>\n",
    "    <b><u><i><h1 style='text-align : center'>\n",
    "        Question 8\n",
    "    </h1></i></u></b>\n",
    "<li><a href='#TableOfContents'>Table of Contents</a></li>"
   ]
  },
  {
   "cell_type": "markdown",
   "id": "bb95c6f1",
   "metadata": {},
   "source": [
    "<b>Question 8.</b> For each dataframe, produce the following columns:\n",
    "\n",
    "- <mark><i>title</i></mark> to hold the title\n",
    "- <mark><i>original</i></mark> to hold the original article/post content\n",
    "- <mark><i>clean</i></mark> to hold the normalized and tokenized original with the stopwords removed.\n",
    "- <mark><i>stemmed</i></mark> to hold the stemmed version of the cleaned data.\n",
    "- <mark><i>lemmatized</i></mark> to hold the lemmatized version of the cleaned data."
   ]
  },
  {
   "cell_type": "code",
   "execution_count": null,
   "id": "59520159",
   "metadata": {},
   "outputs": [],
   "source": []
  },
  {
   "cell_type": "markdown",
   "id": "e113bc9d",
   "metadata": {},
   "source": [
    "<div style='background-color : orange'>\n",
    "<a id='q9'></a>\n",
    "    <b><u><i><h1 style='text-align : center'>\n",
    "        Question 9\n",
    "    </h1></i></u></b>\n",
    "<li><a href='#TableOfContents'>Table of Contents</a></li>"
   ]
  },
  {
   "cell_type": "markdown",
   "id": "5958c324",
   "metadata": {},
   "source": [
    "<b>Question 9.</b> Ask yourself:\n",
    "\n",
    "- If your corpus is 493KB, would you prefer to use stemmed or lemmatized text?\n",
    "- If your corpus is 25MB, would you prefer to use stemmed or lemmatized text?\n",
    "- If your corpus is 200TB of text and you're charged by the megabyte for your hosted computational resources, would you prefer to use stemmed or lemmatized text?"
   ]
  },
  {
   "cell_type": "code",
   "execution_count": null,
   "id": "32346813",
   "metadata": {},
   "outputs": [],
   "source": []
  },
  {
   "cell_type": "markdown",
   "id": "3ec3b05b",
   "metadata": {},
   "source": [
    "<div style='background-color : orange'>\n",
    "<a id='misc'></a>\n",
    "    <b><u><i><h1 style='text-align : center'>\n",
    "        Miscellaneous\n",
    "    </h1></i></u></b>\n",
    "<li><a href='#TableOfContents'>Table of Contents</a></li>"
   ]
  },
  {
   "cell_type": "code",
   "execution_count": null,
   "id": "0ece7c9d",
   "metadata": {},
   "outputs": [],
   "source": []
  }
 ],
 "metadata": {
  "kernelspec": {
   "display_name": "Python 3 (ipykernel)",
   "language": "python",
   "name": "python3"
  },
  "language_info": {
   "codemirror_mode": {
    "name": "ipython",
    "version": 3
   },
   "file_extension": ".py",
   "mimetype": "text/x-python",
   "name": "python",
   "nbconvert_exporter": "python",
   "pygments_lexer": "ipython3",
   "version": "3.9.13"
  }
 },
 "nbformat": 4,
 "nbformat_minor": 5
}
