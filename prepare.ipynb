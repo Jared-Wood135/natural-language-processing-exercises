{
 "cells": [
  {
   "cell_type": "markdown",
   "id": "d828a2f8",
   "metadata": {},
   "source": [
    "<div style='background-color : orange'>\n",
    "<a id='TableOfContents'></a>\n",
    "    <b><u><i><h1 style='text-align : center'>\n",
    "        Table of Contents\n",
    "    </h1></i></u></b>\n",
    "<li><a href='#imports'>Imports</a></li>\n",
    "<li><a href='#q1'>Question 1</a></li>\n",
    "<li><a href='#q2'>Question 2</a></li>\n",
    "<li><a href='#q3'>Question 3</a></li>\n",
    "<li><a href='#q4'>Question 4</a></li>\n",
    "<li><a href='#q5'>Question 5</a></li>\n",
    "<li><a href='#q6'>Question 6</a></li>\n",
    "<li><a href='#q7'>Question 7</a></li>\n",
    "<li><a href='#q8'>Question 8</a></li>\n",
    "<li><a href='#q9'>Question 9</a></li>\n",
    "<li><a href='#misc'>Miscellaneous</a></li>"
   ]
  },
  {
   "cell_type": "markdown",
   "id": "de142722",
   "metadata": {},
   "source": [
    "The end result of this exercise should be a file named <mark>prepare.py</mark> that defines the requested functions.\n",
    "\n",
    "In this exercise we will be defining some functions to prepare textual data. These functions should apply equally well to both the codeup blog articles and the news articles that were previously acquired."
   ]
  },
  {
   "cell_type": "markdown",
   "id": "2b0a2348",
   "metadata": {},
   "source": [
    "<div style='background-color : orange'>\n",
    "<a id='imports'></a>\n",
    "    <b><u><i><h1 style='text-align : center'>\n",
    "        Imports\n",
    "    </h1></i></u></b>\n",
    "<li><a href='#TableOfContents'>Table of Contents</a></li>"
   ]
  },
  {
   "cell_type": "markdown",
   "id": "78f540f7",
   "metadata": {},
   "source": [
    "<h1 style='text-align : center'><b><i><mark>\n",
    "    nltk.download('all')\n",
    "</mark></i></b></h1>\n",
    "\n",
    "- This is required for textual data manipulation"
   ]
  },
  {
   "cell_type": "code",
   "execution_count": 1,
   "id": "e9d1131b",
   "metadata": {},
   "outputs": [],
   "source": [
    "# Vectorization and dataframing\n",
    "import numpy as np\n",
    "import pandas as pd\n",
    "\n",
    "# Visualizations\n",
    "import matplotlib.pyplot as plt\n",
    "import matplotlib as mpl\n",
    "import seaborn as sns\n",
    "\n",
    "# Regex\n",
    "import re\n",
    "\n",
    "# Standardization\n",
    "import unicodedata\n",
    "\n",
    "# Tokenization\n",
    "import nltk\n",
    "from nltk.tokenize.toktok import ToktokTokenizer\n",
    "from nltk.corpus import stopwords\n",
    "\n",
    "# json\n",
    "import json\n",
    "\n",
    "# Ignore warnings\n",
    "import warnings\n",
    "warnings.filterwarnings('ignore')\n",
    "\n",
    "# .py files\n",
    "import acquire as a\n",
    "import prepare as p"
   ]
  },
  {
   "cell_type": "code",
   "execution_count": 2,
   "id": "226c697e",
   "metadata": {},
   "outputs": [],
   "source": [
    "# Set default plt style to 'bmh'\n",
    "mpl.style.use('bmh')"
   ]
  },
  {
   "cell_type": "code",
   "execution_count": 3,
   "id": "b0a1beb2",
   "metadata": {},
   "outputs": [
    {
     "data": {
      "text/html": [
       "<div>\n",
       "<style scoped>\n",
       "    .dataframe tbody tr th:only-of-type {\n",
       "        vertical-align: middle;\n",
       "    }\n",
       "\n",
       "    .dataframe tbody tr th {\n",
       "        vertical-align: top;\n",
       "    }\n",
       "\n",
       "    .dataframe thead th {\n",
       "        text-align: right;\n",
       "    }\n",
       "</style>\n",
       "<table border=\"1\" class=\"dataframe\">\n",
       "  <thead>\n",
       "    <tr style=\"text-align: right;\">\n",
       "      <th></th>\n",
       "      <th>category</th>\n",
       "      <th>headline</th>\n",
       "      <th>summary</th>\n",
       "    </tr>\n",
       "  </thead>\n",
       "  <tbody>\n",
       "    <tr>\n",
       "      <th>76</th>\n",
       "      <td>Entertainment</td>\n",
       "      <td>Kriti Sanon wears saree with 24-carat gold pri...</td>\n",
       "      <td>Kriti Sanon wore a saree by Abu Jani and Sande...</td>\n",
       "    </tr>\n",
       "  </tbody>\n",
       "</table>\n",
       "</div>"
      ],
      "text/plain": [
       "         category                                           headline  \\\n",
       "76  Entertainment  Kriti Sanon wears saree with 24-carat gold pri...   \n",
       "\n",
       "                                              summary  \n",
       "76  Kriti Sanon wore a saree by Abu Jani and Sande...  "
      ]
     },
     "execution_count": 3,
     "metadata": {},
     "output_type": "execute_result"
    }
   ],
   "source": [
    "# Get the news articles dataframe to test functions with\n",
    "news = a.get_news_articles()\n",
    "news.sample()"
   ]
  },
  {
   "cell_type": "markdown",
   "id": "09a57f87",
   "metadata": {},
   "source": [
    "<div style='background-color : orange'>\n",
    "<a id='q1'></a>\n",
    "    <b><u><i><h1 style='text-align : center'>\n",
    "        Question 1\n",
    "    </h1></i></u></b>\n",
    "<li><a href='#TableOfContents'>Table of Contents</a></li>"
   ]
  },
  {
   "cell_type": "markdown",
   "id": "9eca2a13",
   "metadata": {},
   "source": [
    "<b>Question 1.</b> Define a function named <mark><i>basic_clean</i></mark>. It should take in a string and apply some basic text cleaning to it:\n",
    "- Lowercase everything\n",
    "- Normalize unicode characters\n",
    "- Replace anything that is not a letter, number, whitespace or a single quote."
   ]
  },
  {
   "cell_type": "code",
   "execution_count": 4,
   "id": "81c14622",
   "metadata": {},
   "outputs": [],
   "source": [
    "def basic_clean(entry):\n",
    "    '''\n",
    "    Takes in a pandas series (column), lowercases everything, normalizes unicode characters,\n",
    "    and replaces anything that is not a letter, number, whitespace or a\n",
    "    single quote\n",
    "    \n",
    "    INPUT:\n",
    "    entry = Pandas series (column) that needs to be cleaned\n",
    "    \n",
    "    OUTPUT:\n",
    "    cleaned = Pandas series (column) that is cleaned (I HAVE EXORCISED THE DEMON)\n",
    "    '''\n",
    "    lowered = entry.str.lower()\n",
    "    normalized = [unicodedata.normalize('NFKD',text).encode('ascii', 'ignore').decode('utf-8') for text in lowered]\n",
    "    removed_special = [re.sub(r'[^\\w\\s]', '', text) for text in normalized]\n",
    "    cleaned = removed_special\n",
    "    return cleaned"
   ]
  },
  {
   "cell_type": "code",
   "execution_count": 5,
   "id": "fccf2496",
   "metadata": {},
   "outputs": [
    {
     "data": {
      "text/plain": [
       "'microsoft will not give salary hikes to fulltime employees this year ceo satya nadella said in an internal email on wednesday this year the economic conditions are very different across many dimensions nadella said in the email while well have salary increases for certain hourly or equivalent roles we wont have salary increases for fulltime employees this year he added\\n'"
      ]
     },
     "execution_count": 5,
     "metadata": {},
     "output_type": "execute_result"
    }
   ],
   "source": [
    "cleaned_by_function = basic_clean(news.summary)\n",
    "cleaned_by_function[0]"
   ]
  },
  {
   "cell_type": "code",
   "execution_count": 6,
   "id": "b528c12a",
   "metadata": {},
   "outputs": [
    {
     "data": {
      "text/plain": [
       "'microsoft will not give salary hikes to full-time employees this year, ceo satya nadella said in an internal email on wednesday. \"this year, the economic conditions are very different across many dimensions,\" nadella said in the email. \"while we\\'ll have salary increases for certain hourly or equivalent roles, we won\\'t have salary increases for full-time employees this year,\" he added.\\n'"
      ]
     },
     "execution_count": 6,
     "metadata": {},
     "output_type": "execute_result"
    }
   ],
   "source": [
    "# Lowercase all summary data in news df\n",
    "lowered = news.summary.str.lower()\n",
    "lowered[0]"
   ]
  },
  {
   "cell_type": "code",
   "execution_count": 7,
   "id": "a0dfcc4b",
   "metadata": {},
   "outputs": [
    {
     "data": {
      "text/plain": [
       "'microsoft will not give salary hikes to full-time employees this year, ceo satya nadella said in an internal email on wednesday. \"this year, the economic conditions are very different across many dimensions,\" nadella said in the email. \"while we\\'ll have salary increases for certain hourly or equivalent roles, we won\\'t have salary increases for full-time employees this year,\" he added.\\n'"
      ]
     },
     "execution_count": 7,
     "metadata": {},
     "output_type": "execute_result"
    }
   ],
   "source": [
    "# Normalize the lower-cased data\n",
    "normalized = [unicodedata.normalize('NFKD',text).encode('ascii', 'ignore').decode('utf-8') for text in lowered]\n",
    "normalized[0]"
   ]
  },
  {
   "cell_type": "code",
   "execution_count": 8,
   "id": "fc9d06c3",
   "metadata": {},
   "outputs": [
    {
     "data": {
      "text/plain": [
       "'microsoft will not give salary hikes to fulltime employees this year ceo satya nadella said in an internal email on wednesday this year the economic conditions are very different across many dimensions nadella said in the email while well have salary increases for certain hourly or equivalent roles we wont have salary increases for fulltime employees this year he added\\n'"
      ]
     },
     "execution_count": 8,
     "metadata": {},
     "output_type": "execute_result"
    }
   ],
   "source": [
    "# Remove special characters from the normalized data\n",
    "regexp = r'[^\\w\\s]'\n",
    "removed_special = [re.sub(r'[^\\w\\s]', '', text) for text in normalized]\n",
    "removed_special[0]"
   ]
  },
  {
   "cell_type": "markdown",
   "id": "5cdb5022",
   "metadata": {},
   "source": [
    "<div style='background-color : orange'>\n",
    "<a id='q2'></a>\n",
    "    <b><u><i><h1 style='text-align : center'>\n",
    "        Question 2\n",
    "    </h1></i></u></b>\n",
    "<li><a href='#TableOfContents'>Table of Contents</a></li>"
   ]
  },
  {
   "cell_type": "markdown",
   "id": "588786b8",
   "metadata": {},
   "source": [
    "<b>Question 2.</b> Define a function named <mark><i>tokenize</i></mark>. It should take in a string and tokenize all the words in the string."
   ]
  },
  {
   "cell_type": "code",
   "execution_count": 9,
   "id": "ec861448",
   "metadata": {},
   "outputs": [],
   "source": [
    "def tokenize(entry):\n",
    "    '''\n",
    "    Takes in a cleaned pandas series (column) and tokenizes all the words in the string\n",
    "    \n",
    "    INPUT:\n",
    "    entry = Cleaned pandas series (Column) that needs to be tokenized\n",
    "    \n",
    "    OUTPUT:\n",
    "    tokenized_data = Pandas series (Column) that is tokenized (I HAVE EXORCISED THE DEMON)\n",
    "    '''\n",
    "    tokenizer = nltk.tokenize.toktok.ToktokTokenizer()\n",
    "    tokenized_data = [tokenizer.tokenize(text, return_str=True) for text in entry]\n",
    "    return tokenized_data"
   ]
  },
  {
   "cell_type": "code",
   "execution_count": 10,
   "id": "52bb2505",
   "metadata": {},
   "outputs": [
    {
     "data": {
      "text/plain": [
       "'microsoft will not give salary hikes to fulltime employees this year ceo satya nadella said in an internal email on wednesday this year the economic conditions are very different across many dimensions nadella said in the email while well have salary increases for certain hourly or equivalent roles we wont have salary increases for fulltime employees this year he added'"
      ]
     },
     "execution_count": 10,
     "metadata": {},
     "output_type": "execute_result"
    }
   ],
   "source": [
    "tokenized_by_function = tokenize(cleaned_by_function)\n",
    "tokenized_by_function[0]"
   ]
  },
  {
   "cell_type": "code",
   "execution_count": 11,
   "id": "8b21c796",
   "metadata": {},
   "outputs": [
    {
     "data": {
      "text/plain": [
       "'microsoft will not give salary hikes to fulltime employees this year ceo satya nadella said in an internal email on wednesday this year the economic conditions are very different across many dimensions nadella said in the email while well have salary increases for certain hourly or equivalent roles we wont have salary increases for fulltime employees this year he added'"
      ]
     },
     "execution_count": 11,
     "metadata": {},
     "output_type": "execute_result"
    }
   ],
   "source": [
    "# Tokenize the cleaned data\n",
    "tokenizer = ToktokTokenizer()\n",
    "tokenized_data = [tokenizer.tokenize(text, return_str=True) for text in removed_special]\n",
    "tokenized_data[0]"
   ]
  },
  {
   "cell_type": "markdown",
   "id": "3810f905",
   "metadata": {},
   "source": [
    "<div style='background-color : orange'>\n",
    "<a id='q3'></a>\n",
    "    <b><u><i><h1 style='text-align : center'>\n",
    "        Question 3\n",
    "    </h1></i></u></b>\n",
    "<li><a href='#TableOfContents'>Table of Contents</a></li>"
   ]
  },
  {
   "cell_type": "markdown",
   "id": "4ada8ca9",
   "metadata": {},
   "source": [
    "<b>Question 3.</b> Define a function named <mark><i>stem</i></mark>. It should accept some text and return the text after applying stemming to all the words."
   ]
  },
  {
   "cell_type": "code",
   "execution_count": 12,
   "id": "3739b976",
   "metadata": {},
   "outputs": [],
   "source": [
    "def stem(entry):\n",
    "    '''\n",
    "    Takes in a cleaned and tokenized pandas series (column) and applies stemming to all the words\n",
    "    \n",
    "    INPUT:\n",
    "    entry = Cleaned and tokenized pandas series (column) that needs to be stemmed\n",
    "    \n",
    "    OUTPUT:\n",
    "    stemmed_data = Pandas series (column) that is stemmed (I HAVE EXORCISED THE DEMON)\n",
    "    '''\n",
    "    stemmer = nltk.porter.PorterStemmer()\n",
    "    stemmed_data = []\n",
    "    for text in entry:\n",
    "        stemmed_tokens = [stemmer.stem(token) for token in text.split()]\n",
    "        stemmed_text = ' '.join(stemmed_tokens)\n",
    "        stemmed_data.append(stemmed_text)\n",
    "    return stemmed_data"
   ]
  },
  {
   "cell_type": "code",
   "execution_count": 13,
   "id": "ce76fa81",
   "metadata": {},
   "outputs": [
    {
     "data": {
      "text/plain": [
       "'microsoft will not give salari hike to fulltim employe thi year ceo satya nadella said in an intern email on wednesday thi year the econom condit are veri differ across mani dimens nadella said in the email while well have salari increas for certain hourli or equival role we wont have salari increas for fulltim employe thi year he ad'"
      ]
     },
     "execution_count": 13,
     "metadata": {},
     "output_type": "execute_result"
    }
   ],
   "source": [
    "stemmed_by_function = stem(tokenized_by_function)\n",
    "stemmed_by_function[0]"
   ]
  },
  {
   "cell_type": "code",
   "execution_count": 14,
   "id": "7aec47fc",
   "metadata": {},
   "outputs": [
    {
     "data": {
      "text/plain": [
       "'microsoft will not give salari hike to fulltim employe thi year ceo satya nadella said in an intern email on wednesday thi year the econom condit are veri differ across mani dimens nadella said in the email while well have salari increas for certain hourli or equival role we wont have salari increas for fulltim employe thi year he ad'"
      ]
     },
     "execution_count": 14,
     "metadata": {},
     "output_type": "execute_result"
    }
   ],
   "source": [
    "# Stem the tokenized data\n",
    "stemmer = nltk.porter.PorterStemmer()\n",
    "stemmed_data = []\n",
    "for text in tokenized_data:\n",
    "    stemmed_tokens = [stemmer.stem(token) for token in text.split()]\n",
    "    stemmed_text = ' '.join(stemmed_tokens)\n",
    "    stemmed_data.append(stemmed_text)\n",
    "stemmed_data[0]"
   ]
  },
  {
   "cell_type": "markdown",
   "id": "a4746909",
   "metadata": {},
   "source": [
    "<div style='background-color : orange'>\n",
    "<a id='q4'></a>\n",
    "    <b><u><i><h1 style='text-align : center'>\n",
    "        Question 4\n",
    "    </h1></i></u></b>\n",
    "<li><a href='#TableOfContents'>Table of Contents</a></li>"
   ]
  },
  {
   "cell_type": "markdown",
   "id": "9a393917",
   "metadata": {},
   "source": [
    "<b>Question 4.</b> Define a function named <mark><i>lemmatize</i></mark>. It should accept some text and return the text after applying lemmatization to each word."
   ]
  },
  {
   "cell_type": "code",
   "execution_count": 15,
   "id": "3f0536b3",
   "metadata": {},
   "outputs": [],
   "source": [
    "def lemmatize(entry):\n",
    "    '''\n",
    "    Takes in a cleaned and tokenized pandas series (column) and applies lemmatization to each word\n",
    "    \n",
    "    INPUT:\n",
    "    entry = Cleaned and tokenized pandas series (column) that needs to be lemmatized\n",
    "    \n",
    "    OUTPUT:\n",
    "    lemmatized_data = Pandas series (column) that is lemmatized (I HAVE EXORCISED THE DEMON)\n",
    "    '''\n",
    "    lemmatizer = nltk.stem.WordNetLemmatizer()\n",
    "    lemmatized_data = []\n",
    "    for text in entry:\n",
    "        lemmatized_tokens = [lemmatizer.lemmatize(word) for word in text.split()]\n",
    "        lemmatized_text = ' '.join(lemmatized_tokens)\n",
    "        lemmatized_data.append(lemmatized_text)\n",
    "    return lemmatized_data"
   ]
  },
  {
   "cell_type": "code",
   "execution_count": 16,
   "id": "0b071941",
   "metadata": {},
   "outputs": [
    {
     "data": {
      "text/plain": [
       "'microsoft will not give salary hike to fulltime employee this year ceo satya nadella said in an internal email on wednesday this year the economic condition are very different across many dimension nadella said in the email while well have salary increase for certain hourly or equivalent role we wont have salary increase for fulltime employee this year he added'"
      ]
     },
     "execution_count": 16,
     "metadata": {},
     "output_type": "execute_result"
    }
   ],
   "source": [
    "lemmatized_by_function = lemmatize(tokenized_by_function)\n",
    "lemmatized_by_function[0]"
   ]
  },
  {
   "cell_type": "code",
   "execution_count": 17,
   "id": "27c023b5",
   "metadata": {},
   "outputs": [
    {
     "data": {
      "text/plain": [
       "'microsoft will not give salary hike to fulltime employee this year ceo satya nadella said in an internal email on wednesday this year the economic condition are very different across many dimension nadella said in the email while well have salary increase for certain hourly or equivalent role we wont have salary increase for fulltime employee this year he added'"
      ]
     },
     "execution_count": 17,
     "metadata": {},
     "output_type": "execute_result"
    }
   ],
   "source": [
    "# Lemmatize the tokenized data\n",
    "lemmatizer = nltk.stem.WordNetLemmatizer()\n",
    "lemmatized_data = []\n",
    "for text in tokenized_data:\n",
    "    lemmatized_tokens = [lemmatizer.lemmatize(word) for word in text.split()]\n",
    "    lemmatized_text = ' '.join(lemmatized_tokens)\n",
    "    lemmatized_data.append(lemmatized_text)\n",
    "lemmatized_data[0]"
   ]
  },
  {
   "cell_type": "markdown",
   "id": "a06b00e6",
   "metadata": {},
   "source": [
    "<div style='background-color : orange'>\n",
    "<a id='q5'></a>\n",
    "    <b><u><i><h1 style='text-align : center'>\n",
    "        Question 5\n",
    "    </h1></i></u></b>\n",
    "<li><a href='#TableOfContents'>Table of Contents</a></li>"
   ]
  },
  {
   "cell_type": "markdown",
   "id": "7a2a4d31",
   "metadata": {},
   "source": [
    "<b>Question 5.</b> Define a function named <mark><i>remove_stopwords</i></mark>. It should accept some text and return the text after removing all the stopwords.\n",
    "\n",
    "This function should define two optional parameters, <mark><i>extra_words</i></mark> and <mark><i>exclude_words</i></mark>. These parameters should define any additional stop words to include, and any words that we don't want to remove.\n",
    "\n"
   ]
  },
  {
   "cell_type": "code",
   "execution_count": 18,
   "id": "d9c0b6ae",
   "metadata": {},
   "outputs": [],
   "source": [
    "def remove_stopwords(entry, extra_words=[], exclude_words=[]):\n",
    "    '''\n",
    "    Takes in a cleaned, tokenized, and stemmed/lemmatized pandas series (column) and removes all of the stopwords\n",
    "    \n",
    "    INPUT:\n",
    "    entry = Cleaned, tokenized, and stemmed/lemmatized pandas series (column) that needs stopwords removed\n",
    "    extra_words = Additional words to include for removal\n",
    "    exclude_words = Words to exclude from removal\n",
    "    \n",
    "    OUTPUT:\n",
    "    removed_stopwords = Pandas series (column) that has stopwords removed (I HAVE EXORCISED THE DEMON)\n",
    "    '''\n",
    "    stopwords = nltk.corpus.stopwords\n",
    "    removed_stopwords = []\n",
    "    for text in entry:\n",
    "        not_stopword = [word for word in text.split() if word not in stopwords.words('english') or word in extra_words and word not in exclude_words]\n",
    "        no_stopwords = ' '.join(not_stopword)\n",
    "        removed_stopwords.append(no_stopwords)\n",
    "    return removed_stopwords"
   ]
  },
  {
   "cell_type": "code",
   "execution_count": 19,
   "id": "9e7d9e61",
   "metadata": {},
   "outputs": [
    {
     "data": {
      "text/plain": [
       "'microsoft give salary hike fulltime employee year ceo satya nadella said internal email wednesday year economic condition different across many dimension nadella said email well salary increase certain hourly equivalent role wont salary increase fulltime employee year added'"
      ]
     },
     "execution_count": 19,
     "metadata": {},
     "output_type": "execute_result"
    }
   ],
   "source": [
    "removed_stopwords_by_function = remove_stopwords(lemmatized_by_function)\n",
    "removed_stopwords_by_function[0]"
   ]
  },
  {
   "cell_type": "code",
   "execution_count": 20,
   "id": "55792324",
   "metadata": {},
   "outputs": [
    {
     "data": {
      "text/plain": [
       "'microsoft give salari hike fulltim employe thi year ceo satya nadella said intern email wednesday thi year econom condit veri differ across mani dimens nadella said email well salari increas certain hourli equival role wont salari increas fulltim employe thi year ad'"
      ]
     },
     "execution_count": 20,
     "metadata": {},
     "output_type": "execute_result"
    }
   ],
   "source": [
    "# Remove stopwords\n",
    "stopwords = nltk.corpus.stopwords\n",
    "removed_stopwords = []\n",
    "for text in stemmed_data:\n",
    "    not_stopword = [word for word in text.split() if word not in stopwords.words('english')]\n",
    "    no_stopwords = ' '.join(not_stopword)\n",
    "    removed_stopwords.append(no_stopwords)\n",
    "removed_stopwords[0]"
   ]
  },
  {
   "cell_type": "markdown",
   "id": "2afb25e4",
   "metadata": {},
   "source": [
    "<div style='background-color : orange'>\n",
    "<a id='q6'></a>\n",
    "    <b><u><i><h1 style='text-align : center'>\n",
    "        Question 6\n",
    "    </h1></i></u></b>\n",
    "<li><a href='#TableOfContents'>Table of Contents</a></li>"
   ]
  },
  {
   "cell_type": "markdown",
   "id": "41f98201",
   "metadata": {},
   "source": [
    "<b>Question 6.</b> Use your data from the acquire to produce a dataframe of the news articles. Name the dataframe <mark><i>news_df</i></mark>."
   ]
  },
  {
   "cell_type": "code",
   "execution_count": 21,
   "id": "1935d9ff",
   "metadata": {},
   "outputs": [],
   "source": [
    "def prepare_news_articles():\n",
    "    '''\n",
    "    Acquires the vanilla news articles dataframe via web scraping then prepares\n",
    "    pertinent columns and returns the prepared dataframe for exploration\n",
    "    \n",
    "    INPUT:\n",
    "    NONE\n",
    "    \n",
    "    OUTPUT:\n",
    "    prepared_news_articles = Pandas dataframe of prepared news article data\n",
    "    '''\n",
    "    news_articles = a.get_news_articles()\n",
    "    news_articles['headline'] = p.full_clean(news_articles.headline)\n",
    "    news_articles['summary'] = p.full_clean(news_articles.summary)\n",
    "    prepared_news_articles = news_articles\n",
    "    return prepared_news_articles"
   ]
  },
  {
   "cell_type": "code",
   "execution_count": 22,
   "id": "1e5ace8b",
   "metadata": {},
   "outputs": [
    {
     "data": {
      "text/html": [
       "<div>\n",
       "<style scoped>\n",
       "    .dataframe tbody tr th:only-of-type {\n",
       "        vertical-align: middle;\n",
       "    }\n",
       "\n",
       "    .dataframe tbody tr th {\n",
       "        vertical-align: top;\n",
       "    }\n",
       "\n",
       "    .dataframe thead th {\n",
       "        text-align: right;\n",
       "    }\n",
       "</style>\n",
       "<table border=\"1\" class=\"dataframe\">\n",
       "  <thead>\n",
       "    <tr style=\"text-align: right;\">\n",
       "      <th></th>\n",
       "      <th>category</th>\n",
       "      <th>headline</th>\n",
       "      <th>summary</th>\n",
       "      <th>headline_clean</th>\n",
       "      <th>summary_clean</th>\n",
       "    </tr>\n",
       "  </thead>\n",
       "  <tbody>\n",
       "    <tr>\n",
       "      <th>24</th>\n",
       "      <td>Business</td>\n",
       "      <td>It'd damage US reputation in extreme: Biden on...</td>\n",
       "      <td>US President Joe Biden said the country's \"int...</td>\n",
       "      <td>itd damage u reputation extreme biden debt def...</td>\n",
       "      <td>u president joe biden said country internation...</td>\n",
       "    </tr>\n",
       "  </tbody>\n",
       "</table>\n",
       "</div>"
      ],
      "text/plain": [
       "    category                                           headline  \\\n",
       "24  Business  It'd damage US reputation in extreme: Biden on...   \n",
       "\n",
       "                                              summary  \\\n",
       "24  US President Joe Biden said the country's \"int...   \n",
       "\n",
       "                                       headline_clean  \\\n",
       "24  itd damage u reputation extreme biden debt def...   \n",
       "\n",
       "                                        summary_clean  \n",
       "24  u president joe biden said country internation...  "
      ]
     },
     "execution_count": 22,
     "metadata": {},
     "output_type": "execute_result"
    }
   ],
   "source": [
    "# Get that news_df\n",
    "news_df = a.get_news_articles()\n",
    "news_df['headline_clean'] = p.full_clean(news_df.headline)\n",
    "news_df['summary_clean'] = p.full_clean(news_df.summary)\n",
    "news_df.sample()"
   ]
  },
  {
   "cell_type": "code",
   "execution_count": 23,
   "id": "72bd4412",
   "metadata": {},
   "outputs": [
    {
     "data": {
      "text/html": [
       "<div>\n",
       "<style scoped>\n",
       "    .dataframe tbody tr th:only-of-type {\n",
       "        vertical-align: middle;\n",
       "    }\n",
       "\n",
       "    .dataframe tbody tr th {\n",
       "        vertical-align: top;\n",
       "    }\n",
       "\n",
       "    .dataframe thead th {\n",
       "        text-align: right;\n",
       "    }\n",
       "</style>\n",
       "<table border=\"1\" class=\"dataframe\">\n",
       "  <thead>\n",
       "    <tr style=\"text-align: right;\">\n",
       "      <th></th>\n",
       "      <th>category</th>\n",
       "      <th>headline</th>\n",
       "      <th>summary</th>\n",
       "      <th>headline_clean</th>\n",
       "      <th>summary_clean</th>\n",
       "    </tr>\n",
       "  </thead>\n",
       "  <tbody>\n",
       "    <tr>\n",
       "      <th>99</th>\n",
       "      <td>Entertainment</td>\n",
       "      <td>Telugu states said Baahubali is disaster: Raja...</td>\n",
       "      <td>Filmmaker SS Rajamouli revealed that he faced ...</td>\n",
       "      <td>telugu state said baahubali disaster rajamouli...</td>\n",
       "      <td>filmmaker rajamouli revealed faced one life de...</td>\n",
       "    </tr>\n",
       "  </tbody>\n",
       "</table>\n",
       "</div>"
      ],
      "text/plain": [
       "         category                                           headline  \\\n",
       "99  Entertainment  Telugu states said Baahubali is disaster: Raja...   \n",
       "\n",
       "                                              summary  \\\n",
       "99  Filmmaker SS Rajamouli revealed that he faced ...   \n",
       "\n",
       "                                       headline_clean  \\\n",
       "99  telugu state said baahubali disaster rajamouli...   \n",
       "\n",
       "                                        summary_clean  \n",
       "99  filmmaker rajamouli revealed faced one life de...  "
      ]
     },
     "execution_count": 23,
     "metadata": {},
     "output_type": "execute_result"
    }
   ],
   "source": [
    "function_news_df = p.prepare_news_articles()\n",
    "function_news_df.sample()"
   ]
  },
  {
   "cell_type": "markdown",
   "id": "a8aaf2fe",
   "metadata": {},
   "source": [
    "<div style='background-color : orange'>\n",
    "<a id='q7'></a>\n",
    "    <b><u><i><h1 style='text-align : center'>\n",
    "        Question 7\n",
    "    </h1></i></u></b>\n",
    "<li><a href='#TableOfContents'>Table of Contents</a></li>"
   ]
  },
  {
   "cell_type": "markdown",
   "id": "2d338d76",
   "metadata": {},
   "source": [
    "<b>Question 7.</b> Make another dataframe for the Codeup blog posts. Name the dataframe <mark><i>codeup_df</i></mark>."
   ]
  },
  {
   "cell_type": "code",
   "execution_count": 24,
   "id": "4c423746",
   "metadata": {},
   "outputs": [],
   "source": [
    "def prepare_blog_articles():\n",
    "    '''\n",
    "    Acquires the vanilla blog articles dataframe via web scraping then prepares\n",
    "    pertinent columns and returns the prepared dataframe for exploration\n",
    "    \n",
    "    INPUT:\n",
    "    NONE\n",
    "    \n",
    "    OUTPUT:\n",
    "    prepared_blog_articles = Pandas dataframe of prepared blog article data\n",
    "    '''\n",
    "    codeup_df = a.get_blog_articles()\n",
    "    codeup_df['article_orientation'] = codeup_df.article_orientation.fillna('None')\n",
    "    codeup_df['article_orientation'] = p.full_clean(codeup_df.article_orientation)\n",
    "    codeup_df['article_first_paragraph'] = p.full_clean(codeup_df.article_first_paragraph)\n",
    "    codeup_df['article_second_paragraph'] = p.full_clean(codeup_df.article_second_paragraph)\n",
    "    codeup_df['article_third_paragraph'] = p.full_clean(codeup_df.article_third_paragraph)\n",
    "    prepared_blog_articles = codeup_df\n",
    "    return prepared_blog_articles"
   ]
  },
  {
   "cell_type": "code",
   "execution_count": 25,
   "id": "f96f7bd6",
   "metadata": {},
   "outputs": [
    {
     "data": {
      "text/html": [
       "<div>\n",
       "<style scoped>\n",
       "    .dataframe tbody tr th:only-of-type {\n",
       "        vertical-align: middle;\n",
       "    }\n",
       "\n",
       "    .dataframe tbody tr th {\n",
       "        vertical-align: top;\n",
       "    }\n",
       "\n",
       "    .dataframe thead th {\n",
       "        text-align: right;\n",
       "    }\n",
       "</style>\n",
       "<table border=\"1\" class=\"dataframe\">\n",
       "  <thead>\n",
       "    <tr style=\"text-align: right;\">\n",
       "      <th></th>\n",
       "      <th>article_title</th>\n",
       "      <th>article_url</th>\n",
       "      <th>article_orientation</th>\n",
       "      <th>article_first_paragraph</th>\n",
       "      <th>article_second_paragraph</th>\n",
       "      <th>article_third_paragraph</th>\n",
       "    </tr>\n",
       "  </thead>\n",
       "  <tbody>\n",
       "    <tr>\n",
       "      <th>3</th>\n",
       "      <td>Women in Tech: Panelist Spotlight – Madeleine ...</td>\n",
       "      <td>https://codeup.com/events/women-in-tech-madele...</td>\n",
       "      <td>codeup hosting woman tech panel honor woman hi...</td>\n",
       "      <td>madeleine attended codeup student early 2019 p...</td>\n",
       "      <td>dont forget tune march 29th sit insightful con...</td>\n",
       "      <td>none</td>\n",
       "    </tr>\n",
       "  </tbody>\n",
       "</table>\n",
       "</div>"
      ],
      "text/plain": [
       "                                       article_title  \\\n",
       "3  Women in Tech: Panelist Spotlight – Madeleine ...   \n",
       "\n",
       "                                         article_url  \\\n",
       "3  https://codeup.com/events/women-in-tech-madele...   \n",
       "\n",
       "                                 article_orientation  \\\n",
       "3  codeup hosting woman tech panel honor woman hi...   \n",
       "\n",
       "                             article_first_paragraph  \\\n",
       "3  madeleine attended codeup student early 2019 p...   \n",
       "\n",
       "                            article_second_paragraph article_third_paragraph  \n",
       "3  dont forget tune march 29th sit insightful con...                    none  "
      ]
     },
     "execution_count": 25,
     "metadata": {},
     "output_type": "execute_result"
    }
   ],
   "source": [
    "codeup_df = a.get_blog_articles()\n",
    "codeup_df['article_orientation'] = codeup_df.article_orientation.fillna('None')\n",
    "codeup_df['article_orientation'] = p.full_clean(codeup_df.article_orientation)\n",
    "codeup_df['article_first_paragraph'] = p.full_clean(codeup_df.article_first_paragraph)\n",
    "codeup_df['article_second_paragraph'] = p.full_clean(codeup_df.article_second_paragraph)\n",
    "codeup_df['article_third_paragraph'] = p.full_clean(codeup_df.article_third_paragraph)\n",
    "codeup_df.sample()"
   ]
  },
  {
   "cell_type": "code",
   "execution_count": 26,
   "id": "3bc0f9b4",
   "metadata": {},
   "outputs": [
    {
     "data": {
      "text/html": [
       "<div>\n",
       "<style scoped>\n",
       "    .dataframe tbody tr th:only-of-type {\n",
       "        vertical-align: middle;\n",
       "    }\n",
       "\n",
       "    .dataframe tbody tr th {\n",
       "        vertical-align: top;\n",
       "    }\n",
       "\n",
       "    .dataframe thead th {\n",
       "        text-align: right;\n",
       "    }\n",
       "</style>\n",
       "<table border=\"1\" class=\"dataframe\">\n",
       "  <thead>\n",
       "    <tr style=\"text-align: right;\">\n",
       "      <th></th>\n",
       "      <th>article_title</th>\n",
       "      <th>article_url</th>\n",
       "      <th>article_orientation</th>\n",
       "      <th>article_first_paragraph</th>\n",
       "      <th>article_second_paragraph</th>\n",
       "      <th>article_third_paragraph</th>\n",
       "    </tr>\n",
       "  </thead>\n",
       "  <tbody>\n",
       "    <tr>\n",
       "      <th>2</th>\n",
       "      <td>Women in Tech: Panelist Spotlight – Sarah Mellor</td>\n",
       "      <td>https://codeup.com/codeup-news/women-in-tech-p...</td>\n",
       "      <td>codeup hosting woman tech panel honor woman hi...</td>\n",
       "      <td>asked sarah codeup ha impacted career response...</td>\n",
       "      <td>dont forget tune march 29th sit insightful con...</td>\n",
       "      <td>none</td>\n",
       "    </tr>\n",
       "  </tbody>\n",
       "</table>\n",
       "</div>"
      ],
      "text/plain": [
       "                                      article_title  \\\n",
       "2  Women in Tech: Panelist Spotlight – Sarah Mellor   \n",
       "\n",
       "                                         article_url  \\\n",
       "2  https://codeup.com/codeup-news/women-in-tech-p...   \n",
       "\n",
       "                                 article_orientation  \\\n",
       "2  codeup hosting woman tech panel honor woman hi...   \n",
       "\n",
       "                             article_first_paragraph  \\\n",
       "2  asked sarah codeup ha impacted career response...   \n",
       "\n",
       "                            article_second_paragraph article_third_paragraph  \n",
       "2  dont forget tune march 29th sit insightful con...                    none  "
      ]
     },
     "execution_count": 26,
     "metadata": {},
     "output_type": "execute_result"
    }
   ],
   "source": [
    "function_codeup_df = p.prepare_blog_articles()\n",
    "function_codeup_df.sample()"
   ]
  },
  {
   "cell_type": "markdown",
   "id": "9ff1cc40",
   "metadata": {},
   "source": [
    "<div style='background-color : orange'>\n",
    "<a id='q8'></a>\n",
    "    <b><u><i><h1 style='text-align : center'>\n",
    "        Question 8\n",
    "    </h1></i></u></b>\n",
    "<li><a href='#TableOfContents'>Table of Contents</a></li>"
   ]
  },
  {
   "cell_type": "markdown",
   "id": "bb95c6f1",
   "metadata": {},
   "source": [
    "<b>Question 8.</b> For each dataframe, produce the following columns:\n",
    "\n",
    "- <mark><i>title</i></mark> to hold the title\n",
    "- <mark><i>original</i></mark> to hold the original article/post content\n",
    "- <mark><i>clean</i></mark> to hold the normalized and tokenized original with the stopwords removed.\n",
    "- <mark><i>stemmed</i></mark> to hold the stemmed version of the cleaned data.\n",
    "- <mark><i>lemmatized</i></mark> to hold the lemmatized version of the cleaned data."
   ]
  },
  {
   "cell_type": "code",
   "execution_count": 27,
   "id": "59520159",
   "metadata": {},
   "outputs": [
    {
     "data": {
      "text/html": [
       "<div>\n",
       "<style scoped>\n",
       "    .dataframe tbody tr th:only-of-type {\n",
       "        vertical-align: middle;\n",
       "    }\n",
       "\n",
       "    .dataframe tbody tr th {\n",
       "        vertical-align: top;\n",
       "    }\n",
       "\n",
       "    .dataframe thead th {\n",
       "        text-align: right;\n",
       "    }\n",
       "</style>\n",
       "<table border=\"1\" class=\"dataframe\">\n",
       "  <thead>\n",
       "    <tr style=\"text-align: right;\">\n",
       "      <th></th>\n",
       "      <th>article_title</th>\n",
       "      <th>article_url</th>\n",
       "      <th>article_orientation_original</th>\n",
       "      <th>article_first_paragraph_original</th>\n",
       "      <th>article_second_paragraph_original</th>\n",
       "      <th>article_third_paragraph_original</th>\n",
       "      <th>article_orientation_cleaned</th>\n",
       "      <th>article_orientation_stemmed</th>\n",
       "      <th>article_orientation_lemmatized</th>\n",
       "      <th>article_first_paragraph_cleaned</th>\n",
       "      <th>article_first_paragraph_stemmed</th>\n",
       "      <th>article_first_paragraph_lemmatized</th>\n",
       "      <th>article_second_paragraph_cleaned</th>\n",
       "      <th>article_second_paragraph_stemmed</th>\n",
       "      <th>article_second_paragraph_lemmatized</th>\n",
       "      <th>article_third_paragraph_cleaned</th>\n",
       "      <th>article_third_paragraph_stemmed</th>\n",
       "      <th>article_third_paragraph_lemmatized</th>\n",
       "    </tr>\n",
       "  </thead>\n",
       "  <tbody>\n",
       "    <tr>\n",
       "      <th>4</th>\n",
       "      <td>Black Excellence in Tech: Panelist Spotlight –...</td>\n",
       "      <td>https://codeup.com/codeup-news/panelist-spotli...</td>\n",
       "      <td>None</td>\n",
       "      <td>Wilmarie De La Cruz Mejia is a current Codeup ...</td>\n",
       "      <td>Wilmarie is a veteran expanding her knowledge ...</td>\n",
       "      <td>We asked Wilmarie to share more about her expe...</td>\n",
       "      <td>none</td>\n",
       "      <td>none</td>\n",
       "      <td>none</td>\n",
       "      <td>wilmarie de la cruz mejia current codeup stude...</td>\n",
       "      <td>wilmari de la cruz mejia current codeup studen...</td>\n",
       "      <td>wilmarie de la cruz mejia current codeup stude...</td>\n",
       "      <td>wilmarie veteran expanding knowledge programmi...</td>\n",
       "      <td>wilmari veteran expand knowledg program langua...</td>\n",
       "      <td>wilmarie veteran expanding knowledge programmi...</td>\n",
       "      <td>asked wilmarie share experience codeup shares ...</td>\n",
       "      <td>ask wilmari share experi codeup share abl meet...</td>\n",
       "      <td>asked wilmarie share experience codeup share a...</td>\n",
       "    </tr>\n",
       "  </tbody>\n",
       "</table>\n",
       "</div>"
      ],
      "text/plain": [
       "                                       article_title  \\\n",
       "4  Black Excellence in Tech: Panelist Spotlight –...   \n",
       "\n",
       "                                         article_url  \\\n",
       "4  https://codeup.com/codeup-news/panelist-spotli...   \n",
       "\n",
       "  article_orientation_original  \\\n",
       "4                         None   \n",
       "\n",
       "                    article_first_paragraph_original  \\\n",
       "4  Wilmarie De La Cruz Mejia is a current Codeup ...   \n",
       "\n",
       "                   article_second_paragraph_original  \\\n",
       "4  Wilmarie is a veteran expanding her knowledge ...   \n",
       "\n",
       "                    article_third_paragraph_original  \\\n",
       "4  We asked Wilmarie to share more about her expe...   \n",
       "\n",
       "  article_orientation_cleaned article_orientation_stemmed  \\\n",
       "4                        none                        none   \n",
       "\n",
       "  article_orientation_lemmatized  \\\n",
       "4                           none   \n",
       "\n",
       "                     article_first_paragraph_cleaned  \\\n",
       "4  wilmarie de la cruz mejia current codeup stude...   \n",
       "\n",
       "                     article_first_paragraph_stemmed  \\\n",
       "4  wilmari de la cruz mejia current codeup studen...   \n",
       "\n",
       "                  article_first_paragraph_lemmatized  \\\n",
       "4  wilmarie de la cruz mejia current codeup stude...   \n",
       "\n",
       "                    article_second_paragraph_cleaned  \\\n",
       "4  wilmarie veteran expanding knowledge programmi...   \n",
       "\n",
       "                    article_second_paragraph_stemmed  \\\n",
       "4  wilmari veteran expand knowledg program langua...   \n",
       "\n",
       "                 article_second_paragraph_lemmatized  \\\n",
       "4  wilmarie veteran expanding knowledge programmi...   \n",
       "\n",
       "                     article_third_paragraph_cleaned  \\\n",
       "4  asked wilmarie share experience codeup shares ...   \n",
       "\n",
       "                     article_third_paragraph_stemmed  \\\n",
       "4  ask wilmari share experi codeup share abl meet...   \n",
       "\n",
       "                  article_third_paragraph_lemmatized  \n",
       "4  asked wilmarie share experience codeup share a...  "
      ]
     },
     "execution_count": 27,
     "metadata": {},
     "output_type": "execute_result"
    }
   ],
   "source": [
    "all_blogs_versions_df = p.all_versions_blog()\n",
    "all_blogs_versions_df.sample()"
   ]
  },
  {
   "cell_type": "code",
   "execution_count": 28,
   "id": "13f40b89",
   "metadata": {},
   "outputs": [
    {
     "data": {
      "text/html": [
       "<div>\n",
       "<style scoped>\n",
       "    .dataframe tbody tr th:only-of-type {\n",
       "        vertical-align: middle;\n",
       "    }\n",
       "\n",
       "    .dataframe tbody tr th {\n",
       "        vertical-align: top;\n",
       "    }\n",
       "\n",
       "    .dataframe thead th {\n",
       "        text-align: right;\n",
       "    }\n",
       "</style>\n",
       "<table border=\"1\" class=\"dataframe\">\n",
       "  <thead>\n",
       "    <tr style=\"text-align: right;\">\n",
       "      <th></th>\n",
       "      <th>category</th>\n",
       "      <th>headline_original</th>\n",
       "      <th>summary_original</th>\n",
       "      <th>headline_cleaned</th>\n",
       "      <th>headline_stemmed</th>\n",
       "      <th>headline_lemmatized</th>\n",
       "      <th>summary_cleaned</th>\n",
       "      <th>summary_stemmed</th>\n",
       "      <th>summary_lemmatized</th>\n",
       "    </tr>\n",
       "  </thead>\n",
       "  <tbody>\n",
       "    <tr>\n",
       "      <th>0</th>\n",
       "      <td>Business</td>\n",
       "      <td>Microsoft won't give salary hikes to full-time...</td>\n",
       "      <td>Microsoft will not give salary hikes to full-t...</td>\n",
       "      <td>microsoft wont give salary hikes fulltime empl...</td>\n",
       "      <td>microsoft wont give salari hike fulltim employ...</td>\n",
       "      <td>microsoft wont give salary hike fulltime emplo...</td>\n",
       "      <td>microsoft give salary hikes fulltime employees...</td>\n",
       "      <td>microsoft give salari hike fulltim employe yea...</td>\n",
       "      <td>microsoft give salary hike fulltime employee y...</td>\n",
       "    </tr>\n",
       "  </tbody>\n",
       "</table>\n",
       "</div>"
      ],
      "text/plain": [
       "   category                                  headline_original  \\\n",
       "0  Business  Microsoft won't give salary hikes to full-time...   \n",
       "\n",
       "                                    summary_original  \\\n",
       "0  Microsoft will not give salary hikes to full-t...   \n",
       "\n",
       "                                    headline_cleaned  \\\n",
       "0  microsoft wont give salary hikes fulltime empl...   \n",
       "\n",
       "                                    headline_stemmed  \\\n",
       "0  microsoft wont give salari hike fulltim employ...   \n",
       "\n",
       "                                 headline_lemmatized  \\\n",
       "0  microsoft wont give salary hike fulltime emplo...   \n",
       "\n",
       "                                     summary_cleaned  \\\n",
       "0  microsoft give salary hikes fulltime employees...   \n",
       "\n",
       "                                     summary_stemmed  \\\n",
       "0  microsoft give salari hike fulltim employe yea...   \n",
       "\n",
       "                                  summary_lemmatized  \n",
       "0  microsoft give salary hike fulltime employee y...  "
      ]
     },
     "execution_count": 28,
     "metadata": {},
     "output_type": "execute_result"
    }
   ],
   "source": [
    "all_news_versions_df = p.all_versions_news()\n",
    "all_news_versions_df.sample()"
   ]
  },
  {
   "cell_type": "markdown",
   "id": "e113bc9d",
   "metadata": {},
   "source": [
    "<div style='background-color : orange'>\n",
    "<a id='q9'></a>\n",
    "    <b><u><i><h1 style='text-align : center'>\n",
    "        Question 9\n",
    "    </h1></i></u></b>\n",
    "<li><a href='#TableOfContents'>Table of Contents</a></li>"
   ]
  },
  {
   "cell_type": "markdown",
   "id": "5958c324",
   "metadata": {},
   "source": [
    "<b>Question 9.</b> Ask yourself:\n",
    "\n",
    "- If your corpus is 493KB, would you prefer to use stemmed or lemmatized text?\n",
    "- If your corpus is 25MB, would you prefer to use stemmed or lemmatized text?\n",
    "- If your corpus is 200TB of text and you're charged by the megabyte for your hosted computational resources, would you prefer to use stemmed or lemmatized text?"
   ]
  },
  {
   "cell_type": "markdown",
   "id": "ee5cd34e",
   "metadata": {},
   "source": [
    "- Lemmatized (Size isn't large)\n",
    "- Lemmatized (Size isn't large)\n",
    "- Stemmed (Size is large;will reduce size)"
   ]
  },
  {
   "cell_type": "markdown",
   "id": "3ec3b05b",
   "metadata": {},
   "source": [
    "<div style='background-color : orange'>\n",
    "<a id='misc'></a>\n",
    "    <b><u><i><h1 style='text-align : center'>\n",
    "        Miscellaneous\n",
    "    </h1></i></u></b>\n",
    "<li><a href='#TableOfContents'>Table of Contents</a></li>"
   ]
  },
  {
   "cell_type": "code",
   "execution_count": null,
   "id": "0ece7c9d",
   "metadata": {},
   "outputs": [],
   "source": []
  }
 ],
 "metadata": {
  "kernelspec": {
   "display_name": "Python 3 (ipykernel)",
   "language": "python",
   "name": "python3"
  },
  "language_info": {
   "codemirror_mode": {
    "name": "ipython",
    "version": 3
   },
   "file_extension": ".py",
   "mimetype": "text/x-python",
   "name": "python",
   "nbconvert_exporter": "python",
   "pygments_lexer": "ipython3",
   "version": "3.9.13"
  }
 },
 "nbformat": 4,
 "nbformat_minor": 5
}
